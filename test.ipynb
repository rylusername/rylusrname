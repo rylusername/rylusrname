{
 "cells": [
  {
   "cell_type": "code",
   "execution_count": 15,
   "metadata": {},
   "outputs": [
    {
     "output_type": "execute_result",
     "data": {
      "text/plain": "          food  ounces                                 ranK\n0        bacon     4.0  RangeIndex(start=0, stop=9, step=1)\n1  pulled pork     3.0  RangeIndex(start=0, stop=9, step=1)\n2        bacon    12.0  RangeIndex(start=0, stop=9, step=1)\n3     Pastrami     6.0  RangeIndex(start=0, stop=9, step=1)\n4  corned beef     7.5  RangeIndex(start=0, stop=9, step=1)\n5        Bacon     8.0  RangeIndex(start=0, stop=9, step=1)\n6     pastrami     3.0  RangeIndex(start=0, stop=9, step=1)\n7    honey ham     5.0  RangeIndex(start=0, stop=9, step=1)\n8     nova lox     6.0  RangeIndex(start=0, stop=9, step=1)",
      "text/html": "<div>\n<style scoped>\n    .dataframe tbody tr th:only-of-type {\n        vertical-align: middle;\n    }\n\n    .dataframe tbody tr th {\n        vertical-align: top;\n    }\n\n    .dataframe thead th {\n        text-align: right;\n    }\n</style>\n<table border=\"1\" class=\"dataframe\">\n  <thead>\n    <tr style=\"text-align: right;\">\n      <th></th>\n      <th>food</th>\n      <th>ounces</th>\n      <th>ranK</th>\n    </tr>\n  </thead>\n  <tbody>\n    <tr>\n      <th>0</th>\n      <td>bacon</td>\n      <td>4.0</td>\n      <td>RangeIndex(start=0, stop=9, step=1)</td>\n    </tr>\n    <tr>\n      <th>1</th>\n      <td>pulled pork</td>\n      <td>3.0</td>\n      <td>RangeIndex(start=0, stop=9, step=1)</td>\n    </tr>\n    <tr>\n      <th>2</th>\n      <td>bacon</td>\n      <td>12.0</td>\n      <td>RangeIndex(start=0, stop=9, step=1)</td>\n    </tr>\n    <tr>\n      <th>3</th>\n      <td>Pastrami</td>\n      <td>6.0</td>\n      <td>RangeIndex(start=0, stop=9, step=1)</td>\n    </tr>\n    <tr>\n      <th>4</th>\n      <td>corned beef</td>\n      <td>7.5</td>\n      <td>RangeIndex(start=0, stop=9, step=1)</td>\n    </tr>\n    <tr>\n      <th>5</th>\n      <td>Bacon</td>\n      <td>8.0</td>\n      <td>RangeIndex(start=0, stop=9, step=1)</td>\n    </tr>\n    <tr>\n      <th>6</th>\n      <td>pastrami</td>\n      <td>3.0</td>\n      <td>RangeIndex(start=0, stop=9, step=1)</td>\n    </tr>\n    <tr>\n      <th>7</th>\n      <td>honey ham</td>\n      <td>5.0</td>\n      <td>RangeIndex(start=0, stop=9, step=1)</td>\n    </tr>\n    <tr>\n      <th>8</th>\n      <td>nova lox</td>\n      <td>6.0</td>\n      <td>RangeIndex(start=0, stop=9, step=1)</td>\n    </tr>\n  </tbody>\n</table>\n</div>"
     },
     "metadata": {},
     "execution_count": 15
    }
   ],
   "source": [
    "import pandas as pd\n",
    "from pandas import Series, DataFrame\n",
    " \n",
    "data = DataFrame({'food':['bacon','pulled pork','bacon','Pastrami',\n",
    "   'corned beef','Bacon','pastrami','honey ham','nova lox'],\n",
    "     'ounces':[4,3,12,6,7.5,8,3,5,6]})\n",
    "meat_to_animal = {\n",
    " 'bacon':'pig',\n",
    " 'pulled pork':'pig',\n",
    " 'pastrami':'cow',\n",
    " 'corned beef':'cow',\n",
    " 'honey ham':'pig',\n",
    " 'nova lox':'salmon' } \n",
    " \n",
    "#data['animal'] = data['food'].map(str.lower).map(meat_to_animal) \n",
    "#data['animal'] = data['food'].map(lambda x: meat_to_animal[x.lower()])\n",
    "data \n",
    "\n",
    "\n",
    "data['ranK']=data['ounces'].map(lambda x: data['ounces'].index)\n",
    "\n",
    "data\n",
    "\n"
   ]
  },
  {
   "cell_type": "code",
   "execution_count": 1,
   "metadata": {
    "tags": []
   },
   "outputs": [
    {
     "output_type": "stream",
     "name": "stdout",
     "text": "[0]\n[0, 0]\n[0, 0, 1]\n[0, 0, 1, 2]\n[0, 0, 1, 2, 3]\n[0, 0, 1, 2, 3, 4]\n[0, 0, 1, 2, 3, 4, 5]\n[0, 0, 1, 2, 3, 4, 5, 6]\n[0, 0, 1, 2, 3, 4, 5, 6, 0]\n"
    },
    {
     "output_type": "execute_result",
     "data": {
      "text/plain": "[0, 0, 1, 2, 3, 4, 5, 6, 0, 0]"
     },
     "metadata": {},
     "execution_count": 1
    }
   ],
   "source": [
    "import pandas as pd\n",
    "import numpy as np\n",
    "s = pd.Series([10, 1, 2, 3, 5, 8,9,10,2,2])\n",
    "\n",
    "def REF(Series, N):\n",
    "    var = Series.diff(N)\n",
    "    var = Series - var\n",
    "    return var\n",
    "def REF2(Series,N):\n",
    "    return Series.shift(2)\n",
    "def BARSLAST_COND(ser_cond):\n",
    "    ser_cond,sig_,bars_,lenth=list(ser_cond),[0,],[],len(ser_cond)\n",
    "    for i in range(1,lenth):\n",
    "        sig_.append(1) if ser_cond[i]==True  else sig_.append(0)\n",
    "    first_=sig_.index(1)\n",
    "    for i in range(first_):\n",
    "        bars_.append(np.nan)\n",
    "    for i in range(first_,lenth):\n",
    "        if sig_[i]==1:\n",
    "            count_=0\n",
    "            bars_.append(0)\n",
    "        else:\n",
    "            count_+=1\n",
    "            bars_.append(count_)\n",
    "    return bars_ \n",
    "def TOPRANGE(ser_cond):\n",
    "    ser_cond,bars_,lenth=list(ser_cond),[0,],len(ser_cond)\n",
    "    for i in range(1,lenth):\n",
    "        print(bars_)\n",
    "        count_=0\n",
    "        for j in range (i):\n",
    "            if ser_cond[i]>ser_cond[i-j-1]:\n",
    "                count_+=1\n",
    "            else:\n",
    "                break\n",
    "        bars_.append(count_)\n",
    "    return bars_ \n",
    "\n",
    "TOPRANGE(s)"
   ]
  },
  {
   "cell_type": "code",
   "execution_count": null,
   "metadata": {},
   "outputs": [],
   "source": []
  }
 ],
 "metadata": {
  "language_info": {
   "codemirror_mode": {
    "name": "ipython",
    "version": 3
   },
   "file_extension": ".py",
   "mimetype": "text/x-python",
   "name": "python",
   "nbconvert_exporter": "python",
   "pygments_lexer": "ipython3",
   "version": "3.8.0-final"
  },
  "orig_nbformat": 2,
  "kernelspec": {
   "name": "python38064bit83b33577d0ef4c7d92ce8d34300b085a",
   "display_name": "Python 3.8.0 64-bit"
  }
 },
 "nbformat": 4,
 "nbformat_minor": 2
}